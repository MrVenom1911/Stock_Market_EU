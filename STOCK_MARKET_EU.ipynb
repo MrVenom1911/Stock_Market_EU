{
 "cells": [
  {
   "cell_type": "code",
   "execution_count": null,
   "id": "02453b91",
   "metadata": {},
   "outputs": [],
   "source": [
    "#  1. Import Libraries\n",
    "# ========================\n",
    "import yfinance as yf\n",
    "import pandas as pd\n",
    "import numpy as np\n",
    "from sklearn.model_selection import train_test_split, GridSearchCV\n",
    "from sklearn.preprocessing import StandardScaler\n",
    "from sklearn.ensemble import RandomForestClassifier\n",
    "from sklearn.metrics import accuracy_score\n",
    "import matplotlib.pyplot as plt\n"
   ]
  },
  {
   "cell_type": "code",
   "execution_count": 3,
   "id": "45f3de27",
   "metadata": {},
   "outputs": [
    {
     "name": "stderr",
     "output_type": "stream",
     "text": [
      "[*********************100%***********************]  3 of 3 completed\n"
     ]
    }
   ],
   "source": [
    "#  2. Download EU Data\n",
    "# ==========================\n",
    "tickers = ['SAP.DE', '^STOXX50E', '^GDAXI']  # SAP, EU Index, DAX, EU Volatility\n",
    "start_date = \"2015-01-01\"\n",
    "end_date = \"2024-12-31\"\n",
    "\n",
    "data = yf.download(tickers, start=start_date, end=end_date)\n",
    "data.columns = ['_'.join(col).strip() if isinstance(col, tuple) else col for col in data.columns]\n",
    "data = data.ffill()"
   ]
  },
  {
   "cell_type": "code",
   "execution_count": null,
   "id": "5d8022a7",
   "metadata": {},
   "outputs": [],
   "source": [
    "# 3. Feature Engineering + Target Creation\n",
    "# ============================================\n",
    "def get_diff_label(df, open_col, close_col, threshold=0.004):\n",
    "    diff = (df[close_col] - df[open_col]) / df[open_col]\n",
    "    return np.select([diff > threshold, diff < -threshold], [1, -1], default=0)\n",
    "\n",
    "def get_diff_to_avg(df, col, window):\n",
    "    return ((df[col] - df[col].rolling(window=window).mean()) / df[col]) * 100\n",
    "\n",
    "def get_pct_change_lastday(df, col):\n",
    "    return df[col].pct_change().shift(1) * 100\n",
    "\n",
    "def get_data_lastday(df, col):\n",
    "    return df[col].shift(1)"
   ]
  },
  {
   "cell_type": "code",
   "execution_count": 6,
   "id": "c1145841",
   "metadata": {},
   "outputs": [],
   "source": [
    "# Build feature dataframe\n",
    "df = pd.DataFrame()\n",
    "df['sap_diff_lastnight'] = data['Open_SAP.DE'] - data['Close_SAP.DE'].shift(1)\n",
    "df['sap_pct_change'] = (data['Close_SAP.DE'] - data['Open_SAP.DE']) / data['Open_SAP.DE'] * 100\n",
    "\n",
    "# Moving average differences\n",
    "for window in [5, 10, 20, 60]:\n",
    "    df[f'sap_diff_to_{window}d_avg'] = (data['Open_SAP.DE'] - data['Open_SAP.DE'].rolling(window).mean()) / data['Open_SAP.DE'] * 100\n",
    "\n",
    "# EU indices\n",
    "df['dax_change_lastday'] = data['Close_^GDAXI'].pct_change().shift(1) * 100\n",
    "df['stoxx50e_change'] = data['Close_^STOXX50E'].pct_change().shift(1) * 100\n"
   ]
  },
  {
   "cell_type": "code",
   "execution_count": 7,
   "id": "86078410",
   "metadata": {},
   "outputs": [],
   "source": [
    "# Target label\n",
    "df['label'] = get_diff_label(data, 'Open_SAP.DE', 'Close_SAP.DE')"
   ]
  },
  {
   "cell_type": "code",
   "execution_count": 8,
   "id": "83076fd6",
   "metadata": {},
   "outputs": [],
   "source": [
    "# Drop missing rows\n",
    "df = df.dropna()"
   ]
  },
  {
   "cell_type": "code",
   "execution_count": null,
   "id": "0988f972",
   "metadata": {},
   "outputs": [],
   "source": [
    "#  4. Train/Test Split\n",
    "# =========================\n",
    "X = df.drop(columns=['label'])\n",
    "y = df['label']\n",
    "\n",
    "X_train, X_test, y_train, y_test = train_test_split(X, y, test_size=0.2, stratify=y, random_state=42)\n",
    "\n",
    "scaler = StandardScaler()\n",
    "X_train = scaler.fit_transform(X_train)\n",
    "X_test = scaler.transform(X_test)"
   ]
  },
  {
   "cell_type": "code",
   "execution_count": 10,
   "id": "389caed3",
   "metadata": {},
   "outputs": [
    {
     "name": "stdout",
     "output_type": "stream",
     "text": [
      "Model Accuracy: 100.00%\n"
     ]
    }
   ],
   "source": [
    "# 5. Train ML Model\n",
    "# =========================\n",
    "model = RandomForestClassifier(n_estimators=500, random_state=42)\n",
    "model.fit(X_train, y_train)\n",
    "\n",
    "# Evaluate\n",
    "y_pred = model.predict(X_test)\n",
    "acc = accuracy_score(y_test, y_pred)\n",
    "print(f\"Model Accuracy: {acc:.2%}\")"
   ]
  },
  {
   "cell_type": "code",
   "execution_count": 12,
   "id": "46f287a2",
   "metadata": {},
   "outputs": [
    {
     "name": "stdout",
     "output_type": "stream",
     "text": [
      "\n",
      "✅ Final Capital: €46046.63\n",
      "📈 Estimated Annualized Return (APY): 533.20%\n"
     ]
    }
   ],
   "source": [
    "# 💰 6. Simulate Trading Strategy (Safe Version)\n",
    "# ==============================================\n",
    "\n",
    "# Match prediction DataFrame to y_test by index\n",
    "df_test = df.loc[y_test.index].copy()\n",
    "df_test['pred'] = y_pred\n",
    "\n",
    "# Get matching prices safely\n",
    "open_price = data['Open_SAP.DE'].reindex(df_test.index)\n",
    "close_price = data['Close_SAP.DE'].reindex(df_test.index)\n",
    "actual_diff = close_price - open_price\n",
    "\n",
    "# Initialize capital simulation\n",
    "capital = 1000\n",
    "capital_list = [capital]\n",
    "\n",
    "# Run simulation\n",
    "for pred, cost, diff in zip(df_test['pred'], open_price, actual_diff):\n",
    "    if pd.isna(cost) or pd.isna(diff):\n",
    "        capital_list.append(capital)  # skip day if data missing\n",
    "        continue\n",
    "\n",
    "    if pred == 0:\n",
    "        capital_list.append(capital)\n",
    "    else:\n",
    "        daily_return = pred * diff / cost\n",
    "        capital *= (1 + daily_return)\n",
    "        capital_list.append(capital)\n",
    "\n",
    "# Calculate APY\n",
    "n_days = len(df_test)\n",
    "final_return = capital_list[-1]\n",
    "apy = (final_return / capital_list[0]) ** (240 / n_days) - 1\n",
    "\n",
    "# Output results\n",
    "print(f\"\\n✅ Final Capital: €{final_return:.2f}\")\n",
    "print(f\"📈 Estimated Annualized Return (APY): {apy:.2%}\")\n"
   ]
  },
  {
   "cell_type": "code",
   "execution_count": 13,
   "id": "5b53c5b7",
   "metadata": {},
   "outputs": [
    {
     "data": {
      "image/png": "[encoded data removed]",
      "text/plain": [
       "<Figure size 640x480 with 1 Axes>"
      ]
     },
     "metadata": {},
     "output_type": "display_data"
    }
   ],
   "source": [
    "#  7. Plot Capital Over Time\n",
    "# =======================\n",
    "plt.plot(capital_list)\n",
    "plt.title(\"Capital Growth Over Time\")\n",
    "plt.xlabel(\"Days\")\n",
    "plt.ylabel(\"Capital (€)\")\n",
    "plt.grid()\n",
    "plt.show()"
   ]
  }
 ],
 "metadata": {
  "kernelspec": {
   "display_name": "base",
   "language": "python",
   "name": "python3"
  },
  "language_info": {
   "codemirror_mode": {
    "name": "ipython",
    "version": 3
   },
   "file_extension": ".py",
   "mimetype": "text/x-python",
   "name": "python",
   "nbconvert_exporter": "python",
   "pygments_lexer": "ipython3",
   "version": "3.11.5"
  }
 },
 "nbformat": 4,
 "nbformat_minor": 5
}
